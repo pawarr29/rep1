{
  "nbformat": 4,
  "nbformat_minor": 0,
  "metadata": {
    "colab": {
      "provenance": [],
      "authorship_tag": "ABX9TyNjWsS9tNEAGJtWx35G+1b5",
      "include_colab_link": true
    },
    "kernelspec": {
      "name": "python3",
      "display_name": "Python 3"
    },
    "language_info": {
      "name": "python"
    }
  },
  "cells": [
    {
      "cell_type": "markdown",
      "metadata": {
        "id": "view-in-github",
        "colab_type": "text"
      },
      "source": [
        "<a href=\"https://colab.research.google.com/github/pawarr29/rep1/blob/main/BD_task_b%26c.ipynb\" target=\"_parent\"><img src=\"https://colab.research.google.com/assets/colab-badge.svg\" alt=\"Open In Colab\"/></a>"
      ]
    },
    {
      "cell_type": "code",
      "execution_count": null,
      "metadata": {
        "colab": {
          "base_uri": "https://localhost:8080/"
        },
        "id": "EVf8Bj0oSX6R",
        "outputId": "345f85e2-7303-4d07-c1bc-ecbd81bbe145"
      },
      "outputs": [
        {
          "output_type": "stream",
          "name": "stdout",
          "text": [
            "{'results': []}\n"
          ]
        }
      ],
      "source": [
        "import requests\n",
        "\n",
        "url = \"https://moviesdatabase.p.rapidapi.com/titles/series/%7BseriesId%7D\"\n",
        "\n",
        "headers = {\n",
        "\t\"X-RapidAPI-Key\": \"9c25178175mshe4ea6229b7f1c4fp1e9033jsn926b68aefe8d\",\n",
        "\t\"X-RapidAPI-Host\": \"moviesdatabase.p.rapidapi.com\"\n",
        "}\n",
        "\n",
        "response = requests.get(url, headers=headers)\n",
        "X=response.json()\n",
        "print(X)"
      ]
    },
    {
      "cell_type": "code",
      "source": [
        "import http.client\n",
        "\n",
        "conn = http.client.HTTPSConnection(\"moviesdatabase.p.rapidapi.com\")\n",
        "\n",
        "headers = {\n",
        "    'X-RapidAPI-Key': \"9c25178175mshe4ea6229b7f1c4fp1e9033jsn926b68aefe8d\",\n",
        "    'X-RapidAPI-Host': \"moviesdatabase.p.rapidapi.com\"\n",
        "}\n",
        "\n",
        "conn.request(\"GET\", \"/titles/series/%7BseriesId%7D\", headers=headers)\n",
        "\n",
        "res = conn.getresponse()\n",
        "data = res.read()\n",
        "\n",
        "print(data.decode(\"utf-8\"))"
      ],
      "metadata": {
        "colab": {
          "base_uri": "https://localhost:8080/"
        },
        "id": "_rucH_4gTC5U",
        "outputId": "69072dfd-6954-4f53-e19d-5e9a64f34989"
      },
      "execution_count": null,
      "outputs": [
        {
          "output_type": "stream",
          "name": "stdout",
          "text": [
            "{\"results\":[]}\n"
          ]
        }
      ]
    },
    {
      "cell_type": "code",
      "source": [
        "import http.client\n",
        "\n",
        "conn = http.client.HTTPSConnection(\"google-translate1.p.rapidapi.com\")\n",
        "\n",
        "payload = \"q=English%20is%20hard%2C%20but%20detectably%20so\"\n",
        "\n",
        "headers = {\n",
        "    'content-type': \"application/x-www-form-urlencoded\",\n",
        "    'Accept-Encoding': \"application/gzip\",\n",
        "    'X-RapidAPI-Key': \"9c25178175mshe4ea6229b7f1c4fp1e9033jsn926b68aefe8d\",\n",
        "    'X-RapidAPI-Host': \"google-translate1.p.rapidapi.com\"\n",
        "}\n",
        "\n",
        "conn.request(\"POST\", \"/language/translate/v2/detect\", payload, headers)\n",
        "\n",
        "res = conn.getresponse()\n",
        "data = res.read()\n",
        "\n",
        "print(data.decode(\"utf-8\"))"
      ],
      "metadata": {
        "colab": {
          "base_uri": "https://localhost:8080/"
        },
        "id": "gX_jFpOPTkvZ",
        "outputId": "0fe9a377-6085-42c0-ad29-e983ffb9976f"
      },
      "execution_count": null,
      "outputs": [
        {
          "output_type": "stream",
          "name": "stdout",
          "text": [
            "{\"data\":{\"detections\":[[{\"confidence\":1,\"language\":\"en\",\"isReliable\":false}]]}}\n"
          ]
        }
      ]
    },
    {
      "cell_type": "code",
      "source": [
        "import requests\n",
        "\n",
        "url = \"https://google-translate1.p.rapidapi.com/language/translate/v2/detect\"\n",
        "\n",
        "payload = { \"q\": \"English is hard, but detectably so\" }\n",
        "headers = {\n",
        "\t\"content-type\": \"application/x-www-form-urlencoded\",\n",
        "\t\"Accept-Encoding\": \"application/gzip\",\n",
        "\t\"X-RapidAPI-Key\": \"9c25178175mshe4ea6229b7f1c4fp1e9033jsn926b68aefe8d\",\n",
        "\t\"X-RapidAPI-Host\": \"google-translate1.p.rapidapi.com\"\n",
        "}\n",
        "\n",
        "response = requests.post(url, data=payload, headers=headers)\n",
        "\n",
        "print(response.json())"
      ],
      "metadata": {
        "colab": {
          "base_uri": "https://localhost:8080/"
        },
        "id": "52v41kUnTp2V",
        "outputId": "5cb39457-0d60-47ba-bce7-e0ac3f78dff3"
      },
      "execution_count": null,
      "outputs": [
        {
          "output_type": "stream",
          "name": "stdout",
          "text": [
            "{'data': {'detections': [[{'language': 'en', 'isReliable': False, 'confidence': 1}]]}}\n"
          ]
        }
      ]
    },
    {
      "cell_type": "code",
      "source": [
        "# import requests\n",
        "# from bs4 import BeautifulSoup\n",
        "# import pandas as pd\n",
        "# URL1=\"https://www.amazon.com/Total-Verizon-Samsung-Galaxy-Black/dp/B0CHH6X6H2/ref=sr_1_2?crid=2W63IJF3NNHJE&keywords=phones&qid=1706641686&sprefix=phones%2Caps%2C343&sr=8-2\"\n",
        "# r=requests.get(URL)\n",
        "# soup=BeautifulSoup(r.content,'html5lib')\n",
        "# # print(soup.prettify())\n",
        "# title=soup.find(id='productTitle')\n",
        "# curr=soup.find('span',{'class':'a-price-symbol'})\n",
        "# pricew=soup.find('span',{'class':'a-price-whole'})\n",
        "# priced=soup.find('span',{'class':'a-price-fraction'})\n",
        "# rating=soup.find(id='acrPopover')\n",
        "# abo=soup.find('ul',{\"class\":\"a-unordered-list a-vertical a-spacing-mini\"})\n",
        "# abou=abo.find_all('span',{'class':\"a-list-item\"}) #{\"class\":\"a-spacing-mini\"})\n",
        "# # about=abou.find_all('span',{'class':\"a-list-item\"})\n",
        "# # print(type(priced))\n",
        "# title=title.text.strip()\n",
        "# price=curr.text.strip()+pricew.text.strip()+priced.text.strip()\n",
        "# rating=rating.text.strip()[0:3]\n",
        "# # print(type(abou))\n",
        "# x=[]\n",
        "# for about in abou:\n",
        "#   y=str(about.text)\n",
        "#   x.append(y)\n",
        "# about=\"\\n\".join(x)\n",
        "\n"
      ],
      "metadata": {
        "id": "n2zm-X8Sl1Az"
      },
      "execution_count": null,
      "outputs": []
    },
    {
      "cell_type": "code",
      "source": [
        "import requests\n",
        "from bs4 import BeautifulSoup\n",
        "import pandas as pd\n",
        "URL1=\"https://www.amazon.com/Total-Verizon-Samsung-Galaxy-Black/dp/B0CHH6X6H2/ref=sr_1_2?crid=2W63IJF3NNHJE&keywords=phones&qid=1706641686&sprefix=phones%2Caps%2C343&sr=8-2\"\n",
        "URL2='https://www.amazon.com/SAMSUNG-Unlocked-Android-Smartphone-Processor/dp/B0CD94BLW8/ref=sr_1_1?crid=2W63IJF3NNHJE&keywords=phones&qid=1706641686&sprefix=phones%2Caps%2C343&sr=8-1'\n",
        "URL3='https://www.amazon.com/Motorola-Stylus-Battery-Unlocked-Emerald/dp/B0BFYRV4CD/ref=sr_1_3?crid=2W63IJF3NNHJE&keywords=phones&qid=1706641686&sprefix=phones%2Caps%2C343&sr=8-3'\n",
        "URL5='https://www.amazon.com/SAMSUNG-A14-Unlocked-Worldwide-T-Mobile/dp/B0BXV2XKVF/ref=sr_1_8?crid=2W63IJF3NNHJE&keywords=phones&qid=1706641686&sprefix=phones%2Caps%2C343&sr=8-8'\n",
        "d={'title':[],'price':[],'rating':[],'about':[]}\n",
        "def scrappy(URL,d):\n",
        "  r=requests.get(URL)\n",
        "  soup=BeautifulSoup(r.content,'html5lib')\n",
        "  # print(soup.prettify())\n",
        "  title=soup.find(id='productTitle')\n",
        "  curr=soup.find('span',{'class':'a-price-symbol'})\n",
        "  pricew=soup.find('span',{'class':'a-price-whole'})\n",
        "  priced=soup.find('span',{'class':'a-price-fraction'})\n",
        "  rating=soup.find(id='acrPopover')\n",
        "  abo=soup.find('ul',{\"class\":\"a-unordered-list a-vertical a-spacing-mini\"})\n",
        "  abou=abo.find_all('span',{'class':\"a-list-item\"}) #{\"class\":\"a-spacing-mini\"})\n",
        "  # about=abou.find_all('span',{'class':\"a-list-item\"})\n",
        "  # print(type(priced))\n",
        "  title=title.text.strip()\n",
        "  price=curr.text.strip()+pricew.text.strip()+priced.text.strip()\n",
        "  rating=rating.text.strip()[0:3]\n",
        "  # print(type(abou))\n",
        "  x=[]\n",
        "  for about in abou:\n",
        "    y=str(about.text)\n",
        "    x.append(y)\n",
        "  about=\"\\n\".join(x)\n",
        "\n",
        "  d['title'].append(title)\n",
        "  d['price'].append(price)\n",
        "  d['rating'].append(rating)\n",
        "  d['about'].append(about)\n",
        "\n",
        "scrappy(URL1,d)\n",
        "scrappy(URL2,d)\n",
        "scrappy(URL3,d)\n",
        "# scrappy(URL4,d)\n",
        "scrappy(URL5,d)\n",
        "new = pd.DataFrame.from_dict(d)\n",
        "new\n",
        "new.to_csv(r'amazon.csv')"
      ],
      "metadata": {
        "id": "Tu3T-DWbEcr1"
      },
      "execution_count": null,
      "outputs": []
    }
  ]
}