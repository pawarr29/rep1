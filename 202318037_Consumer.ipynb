{
  "cells": [
    {
      "cell_type": "markdown",
      "metadata": {
        "id": "view-in-github",
        "colab_type": "text"
      },
      "source": [
        "<a href=\"https://colab.research.google.com/github/pawarr29/rep1/blob/main/202318037_Consumer.ipynb\" target=\"_parent\"><img src=\"https://colab.research.google.com/assets/colab-badge.svg\" alt=\"Open In Colab\"/></a>"
      ]
    },
    {
      "cell_type": "code",
      "execution_count": null,
      "id": "bfebe067",
      "metadata": {
        "id": "bfebe067"
      },
      "outputs": [],
      "source": [
        "from kafka import KafkaConsumer\n",
        "import json\n",
        "\n",
        "bootstrap_servers = 'localhost:9092'\n",
        "inventory_topic = 'topicBDPdemo1'\n",
        "delivery_topic = 'topicBDPdemo2'\n",
        "\n",
        "inventory_consumer = KafkaConsumer(inventory_topic,\n",
        "                                   bootstrap_servers=bootstrap_servers,\n",
        "                                   auto_offset_reset='earliest',\n",
        "                                   group_id='inventory_group',\n",
        "                                   value_deserializer=lambda x: json.loads(x.decode('utf-8')))\n",
        "\n",
        "delivery_consumer = KafkaConsumer(delivery_topic,\n",
        "                                  bootstrap_servers=bootstrap_servers,\n",
        "                                  auto_offset_reset='earliest',\n",
        "                                  group_id='delivery_group',\n",
        "                                  value_deserializer=lambda x: json.loads(x.decode('utf-8')))\n",
        "\n",
        "def process_inventory_order(order):\n",
        "    print(\"Processing inventory order:\", order)\n",
        "    # to update inventory database/system\n",
        "\n",
        "# Function to process delivery orders\n",
        "def process_delivery_order(order):\n",
        "    print(\"Processing delivery order:\", order)\n",
        "    # to schedule deliveries, update delivery status, and notify customers\n",
        "\n",
        "# consume messages from inventory topic\n",
        "for message in inventory_consumer:\n",
        "    inventory_order = message.value\n",
        "    process_inventory_order(inventory_order)\n",
        "\n",
        "# consume messages from delivery topic\n",
        "for message in delivery_consumer:\n",
        "    delivery_order = message.value\n",
        "    process_delivery_order(delivery_order)"
      ]
    },
    {
      "cell_type": "code",
      "execution_count": null,
      "id": "a7385f7c",
      "metadata": {
        "id": "a7385f7c"
      },
      "outputs": [],
      "source": []
    }
  ],
  "metadata": {
    "kernelspec": {
      "display_name": "Python 3 (ipykernel)",
      "language": "python",
      "name": "python3"
    },
    "language_info": {
      "codemirror_mode": {
        "name": "ipython",
        "version": 3
      },
      "file_extension": ".py",
      "mimetype": "text/x-python",
      "name": "python",
      "nbconvert_exporter": "python",
      "pygments_lexer": "ipython3",
      "version": "3.9.12"
    },
    "colab": {
      "provenance": [],
      "include_colab_link": true
    }
  },
  "nbformat": 4,
  "nbformat_minor": 5
}